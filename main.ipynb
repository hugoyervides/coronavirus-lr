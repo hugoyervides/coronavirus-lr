{
 "metadata": {
  "language_info": {
   "codemirror_mode": {
    "name": "ipython",
    "version": 3
   },
   "file_extension": ".py",
   "mimetype": "text/x-python",
   "name": "python",
   "nbconvert_exporter": "python",
   "pygments_lexer": "ipython3",
   "version": "3.7.4-final"
  },
  "orig_nbformat": 2,
  "kernelspec": {
   "name": "python3",
   "display_name": "Python 3"
  }
 },
 "nbformat": 4,
 "nbformat_minor": 2,
 "cells": [
  {
   "cell_type": "code",
   "execution_count": 183,
   "metadata": {},
   "outputs": [],
   "source": [
    "import requests\n",
    "from bs4 import BeautifulSoup\n",
    "import numpy as np\n",
    "import matplotlib.pyplot as plt\n",
    "import pandas as pd\n",
    "from sklearn.linear_model import LinearRegression\n",
    "from sklearn.model_selection import train_test_split\n",
    "from datetime import datetime\n",
    "from datetime import timezone"
   ]
  },
  {
   "cell_type": "code",
   "execution_count": 184,
   "metadata": {},
   "outputs": [],
   "source": [
    "CORONA_CASES_URL = \"https://www.worldometers.info/coronavirus/\""
   ]
  },
  {
   "cell_type": "code",
   "execution_count": 185,
   "metadata": {},
   "outputs": [],
   "source": [
    "page = requests.get(CORONA_CASES_URL)\n",
    "soup = BeautifulSoup(page.content, 'html.parser')\n",
    "scripts = soup.find_all(\"script\")"
   ]
  },
  {
   "cell_type": "code",
   "execution_count": 186,
   "metadata": {
    "tags": []
   },
   "outputs": [],
   "source": [
    "data_script = \"\"\n",
    "\n",
    "for script in scripts:\n",
    "    for line in script:\n",
    "        if \"coronavirus-cases-linear\" in str(line):\n",
    "            data_script = line\n",
    "            break\n",
    "\n",
    "data_script = data_script[data_script.find(\"coronavirus-cases-daily\"): -1]"
   ]
  },
  {
   "cell_type": "code",
   "execution_count": 187,
   "metadata": {
    "tags": []
   },
   "outputs": [],
   "source": [
    "start_categories = data_script.find('[', data_script.find('categories'))\n",
    "end_categories = data_script.find(']', start_categories)\n",
    "categories = data_script[start_categories + 1: end_categories].replace('\"', '').split(',')"
   ]
  },
  {
   "cell_type": "code",
   "execution_count": 188,
   "metadata": {
    "tags": []
   },
   "outputs": [],
   "source": [
    "start_data = data_script.find('[', data_script.find('data'))\n",
    "end_data = data_script.find(']', start_data)\n",
    "data = data_script[start_data + 1: end_data].split(',')"
   ]
  },
  {
   "cell_type": "code",
   "execution_count": 189,
   "metadata": {
    "tags": []
   },
   "outputs": [],
   "source": [
    "for i, val in enumerate(data):\n",
    "    if(val == 'null'):\n",
    "        data.pop(i)\n",
    "        categories.pop(i)"
   ]
  },
  {
   "cell_type": "code",
   "execution_count": 190,
   "metadata": {},
   "outputs": [],
   "source": [
    "data_int = []\n",
    "for value in data:\n",
    "    data_int.append(int(value))\n",
    "data = data_int"
   ]
  },
  {
   "cell_type": "code",
   "execution_count": 191,
   "metadata": {
    "tags": []
   },
   "outputs": [],
   "source": [
    "data = np.array(data)\n",
    "categories = np.array(categories)"
   ]
  },
  {
   "cell_type": "code",
   "execution_count": 193,
   "metadata": {
    "tags": []
   },
   "outputs": [],
   "source": [
    "guess_year = \"2020\"\n",
    "categories_with_year = []\n",
    "for date in categories:\n",
    "    categories_with_year.append(datetime.strptime(date + \" \" + guess_year, '%b %d %Y'))"
   ]
  },
  {
   "cell_type": "code",
   "execution_count": 194,
   "metadata": {
    "tags": []
   },
   "outputs": [],
   "source": [
    "categories_timestamp = [] \n",
    "for date in categories_with_year:\n",
    "    categories_timestamp.append(date.replace(tzinfo=timezone.utc).timestamp())"
   ]
  },
  {
   "cell_type": "code",
   "execution_count": 195,
   "metadata": {
    "tags": []
   },
   "outputs": [],
   "source": [
    "categories_timestamp = np.array(categories_timestamp)\n",
    "categories_timestamp = categories_timestamp.reshape(-1,1)"
   ]
  },
  {
   "cell_type": "code",
   "execution_count": 196,
   "metadata": {},
   "outputs": [],
   "source": [
    "lr = LinearRegression() "
   ]
  },
  {
   "cell_type": "code",
   "execution_count": 197,
   "metadata": {},
   "outputs": [],
   "source": [
    "X_train, X_test, y_train, y_test = train_test_split(categories_timestamp,data,test_size=0.33,random_state=42)"
   ]
  },
  {
   "cell_type": "code",
   "execution_count": 198,
   "metadata": {},
   "outputs": [
    {
     "output_type": "execute_result",
     "data": {
      "text/plain": "LinearRegression(copy_X=True, fit_intercept=True, n_jobs=None, normalize=False)"
     },
     "metadata": {},
     "execution_count": 198
    }
   ],
   "source": [
    "lr.fit(X_train,y_train)"
   ]
  },
  {
   "cell_type": "code",
   "execution_count": null,
   "metadata": {},
   "outputs": [],
   "source": []
  }
 ]
}